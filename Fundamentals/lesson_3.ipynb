{
 "cells": [
  {
   "cell_type": "markdown",
   "metadata": {},
   "source": [
    "### Fuctions"
   ]
  },
  {
   "cell_type": "code",
   "execution_count": 13,
   "metadata": {},
   "outputs": [
    {
     "data": {
      "text/plain": [
       "'Hi Helen good evening how are you?'"
      ]
     },
     "execution_count": 13,
     "metadata": {},
     "output_type": "execute_result"
    }
   ],
   "source": [
    "# write a function that greets a person with respect to time of day\n",
    "\n",
    "def greet(name, time_day):\n",
    "    if time_day == 'morning':\n",
    "        time = 'morning'\n",
    "    elif time_day == 'afternoon':\n",
    "        time = 'afternoon'\n",
    "    elif time_day == 'evening':\n",
    "        time = 'evening'\n",
    "    greeting = f'Hi {name} good {time} how are you?'   \n",
    "    return greeting\n",
    "\n",
    "greet(name = 'Helen', time_day='evening')"
   ]
  },
  {
   "cell_type": "code",
   "execution_count": 19,
   "metadata": {},
   "outputs": [
    {
     "data": {
      "text/plain": [
       "100"
      ]
     },
     "execution_count": 19,
     "metadata": {},
     "output_type": "execute_result"
    }
   ],
   "source": [
    "# function that returns the larger of two numbers\n",
    "\n",
    "def check_number(num1, num2):\n",
    "    if num1 > num2:\n",
    "        greater = num1\n",
    "    elif num1 < num2:\n",
    "        greater = num2\n",
    "    else:\n",
    "        greater = f'Equal!!'\n",
    "    return greater\n",
    "\n",
    "check_number(num1 = 100, num2 = 10)"
   ]
  },
  {
   "cell_type": "code",
   "execution_count": 25,
   "metadata": {},
   "outputs": [
    {
     "data": {
      "text/plain": [
       "False"
      ]
     },
     "execution_count": 25,
     "metadata": {},
     "output_type": "execute_result"
    }
   ],
   "source": [
    "## write a function that checks if a number is prime or not\n",
    "\n",
    "def check_prime(number):\n",
    "    for num in range(2, number):\n",
    "        if number % num == 0:\n",
    "            return False\n",
    "    else:\n",
    "        return True\n",
    "        \n",
    "check_prime(15)"
   ]
  },
  {
   "cell_type": "code",
   "execution_count": 27,
   "metadata": {},
   "outputs": [
    {
     "data": {
      "text/plain": [
       "[53, 59, 61, 67, 71, 73, 79, 83, 89, 97]"
      ]
     },
     "execution_count": 27,
     "metadata": {},
     "output_type": "execute_result"
    }
   ],
   "source": [
    "# write a function that returns the prime numbers within a range\n",
    "\n",
    "lower = int(input('Enter the lower boundary: '))\n",
    "upper = int(input('Enter the upper boundary: '))\n",
    "container = []\n",
    "\n",
    "for number in range(lower, upper+1):\n",
    "    if check_prime(number) == True:\n",
    "        container.append(number)\n",
    "    else:\n",
    "        pass\n",
    "    \n",
    "container\n",
    "        "
   ]
  },
  {
   "cell_type": "code",
   "execution_count": 28,
   "metadata": {},
   "outputs": [
    {
     "data": {
      "text/plain": [
       "80500"
      ]
     },
     "execution_count": 28,
     "metadata": {},
     "output_type": "execute_result"
    }
   ],
   "source": [
    "# write a function that converts dollar to naira\n",
    "\n",
    "def currency_converter(amount, rate):\n",
    "    naira_value = amount * rate\n",
    "    return naira_value\n",
    "    \n",
    "currency_converter(amount=50, rate = 1610)"
   ]
  },
  {
   "cell_type": "code",
   "execution_count": 29,
   "metadata": {},
   "outputs": [
    {
     "data": {
      "text/plain": [
       "5000.0"
      ]
     },
     "execution_count": 29,
     "metadata": {},
     "output_type": "execute_result"
    }
   ],
   "source": [
    "# function that returns ten percent\n",
    "\n",
    "def get_tithe(amount, percent=0.1):\n",
    "    tithe = amount * percent\n",
    "    return tithe\n",
    "\n",
    "get_tithe(amount=50000)"
   ]
  }
 ],
 "metadata": {
  "kernelspec": {
   "display_name": "Python 3",
   "language": "python",
   "name": "python3"
  },
  "language_info": {
   "codemirror_mode": {
    "name": "ipython",
    "version": 3
   },
   "file_extension": ".py",
   "mimetype": "text/x-python",
   "name": "python",
   "nbconvert_exporter": "python",
   "pygments_lexer": "ipython3",
   "version": "3.12.0"
  }
 },
 "nbformat": 4,
 "nbformat_minor": 2
}
