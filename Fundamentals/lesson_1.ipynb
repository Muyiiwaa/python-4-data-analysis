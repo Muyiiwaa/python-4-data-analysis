{
 "cells": [
  {
   "cell_type": "markdown",
   "metadata": {},
   "source": [
    "### **Introduction to Python, Variables, Data Types, Operators, and Basic Arithmetic Operations**\n",
    "---\n"
   ]
  },
  {
   "cell_type": "markdown",
   "metadata": {},
   "source": [
    "#### **1. Introduction to Python**\n",
    "\n",
    "#### **What is Python?**\n",
    "- Python is a high-level, interpreted programming language, designed for simplicity and readability.\n",
    "- It was created by Guido van Rossum and first released in 1991.\n",
    "\n",
    "#### **Why Learn Python?**\n",
    "- **Simplicity**: Python's syntax is straightforward, making it easy to learn and use.\n",
    "- **Versatility**: It is used in web development, data analysis, machine learning, automation, and more.\n",
    "- **Community and Libraries**: Python has a vast ecosystem of libraries that support various applications.\n",
    "\n",
    "___"
   ]
  },
  {
   "cell_type": "code",
   "execution_count": null,
   "metadata": {},
   "outputs": [],
   "source": []
  },
  {
   "cell_type": "markdown",
   "metadata": {},
   "source": [
    "### **2. Variables and Data Types**\n",
    "\n",
    "#### **Variables in Python**\n",
    "- Variables are containers for storing data values.\n",
    "- They are declared by assigning a value to a name.\n",
    "\n",
    "Examples of Valid Variable names.\n",
    "\n",
    "| **Valid Variable Names** | **Explanation**              |\n",
    "|--------------------------|------------------------------|\n",
    "| name                   | Lowercase letters are allowed.|\n",
    "| age                    | Lowercase letters are allowed.|\n",
    "| first_name             | Underscores are allowed.      |\n",
    "| user1                  | Numbers are allowed after letters.|\n",
    "| _private_var           | Underscore at the beginning is allowed.|\n",
    "\n",
    "Examples of Invalid Variable names\n",
    "\n",
    "| **Invalid Variable Names** | **Explanation**                      |\n",
    "|----------------------------|--------------------------------------|\n",
    "| `1name`                    | Cannot start with a number.          |\n",
    "| `first-name`               | Hyphens are not allowed.             |\n",
    "| `class`                    | Reserved keyword in Python.          |\n",
    "| `user name`                | Spaces are not allowed.              |\n",
    "| `@username`                | Special characters are not allowed.  |\n",
    "\n",
    "#### **Data Types**\n",
    "1. **Integer**: Whole numbers.\n",
    "2. **Floating Point**: Decimal numbers.\n",
    "3. **String**: Text data, enclosed in quotes.\n",
    "4. **Boolean**: Represents `True` or `False`.\n",
    "\n",
    "\n",
    "| **Data Type** | **Description**                 | **Example**            |\n",
    "|---------------|---------------------------------|------------------------|\n",
    "| `int`         | Integer, whole numbers           | `10`, `-3`, `0`        |\n",
    "| `float`       | Floating point, decimal numbers  | `3.14`, `-0.5`, `2.0`  |\n",
    "| `str`         | String, sequence of characters   | `\"hello\"`, `'Python'`  |\n",
    "| `bool`        | Boolean, True or False values    | `True`, `False`        |"
   ]
  },
  {
   "cell_type": "code",
   "execution_count": 3,
   "metadata": {},
   "outputs": [
    {
     "data": {
      "text/plain": [
       "5"
      ]
     },
     "execution_count": 3,
     "metadata": {},
     "output_type": "execute_result"
    }
   ],
   "source": [
    "# create a two variables and add them\n",
    "\n",
    "wale_age = 2 # create a variable for wale's age\n",
    "segun_age = 3\n",
    "\n",
    "wale_age + segun_age"
   ]
  },
  {
   "cell_type": "code",
   "execution_count": 10,
   "metadata": {},
   "outputs": [
    {
     "name": "stdout",
     "output_type": "stream",
     "text": [
      "Hi wale, you are 50 years old\n"
     ]
    }
   ],
   "source": [
    "# write a single program that ouputs name and age\n",
    "\n",
    "name = 'wale'\n",
    "age = 50\n",
    "\n",
    "print(f'Hi {name}, you are {age} years old')"
   ]
  },
  {
   "cell_type": "markdown",
   "metadata": {},
   "source": [
    "### **3. Operators in Python**\n",
    "\n",
    "#### **Arithmetic Operators**\n",
    "- These operators perform basic mathematical operations like addition, subtraction, multiplication, and division.\n",
    "\n",
    "\n",
    "| **Operator** | **Description**        | **Example**       |\n",
    "|--------------|------------------------|-------------------|\n",
    "| `+`          | Addition                | 5 + 3 = 8         |\n",
    "| `-`          | Subtraction             | 10 - 4 = 6        |\n",
    "| `*`          | Multiplication          | 7 * 2 = 14        |\n",
    "| `/`          | Division                | 15 / 3 = 5.0      |\n",
    "| `//`         | Floor Division          | 15 // 4 = 3       |\n",
    "| `%`          | Modulus (Remainder)     | 10 % 3 = 1        |\n",
    "| `**`         | Exponentiation          | 2 ** 3 = 8        |\n",
    "\n",
    "#### **Comparison Operators**\n",
    "- Used to compare values, such as greater than, less than, equal to, or not equal to.\n",
    "\n",
    "| **Operator** | **Description**        | **Example**       |\n",
    "|--------------|------------------------|-------------------|\n",
    "| `==`         | Equal to                | 5 == 5 is True    |\n",
    "| `!=`         | Not equal to            | 5 != 3 is True    |\n",
    "| `>`          | Greater than            | 7 > 4 is True     |\n",
    "| `<`          | Less than               | 3 < 6 is True     |\n",
    "| `>=`         | Greater than or equal to| 5 >= 5 is True    |\n",
    "| `<=`         | Less than or equal to   | 4 <= 4 is True    |\n",
    "\n",
    "#### **Logical Operators**\n",
    "- These combine conditional statements, including logical AND, OR, and NOT.\n",
    "\n",
    "| **Operator** | **Description**        | **Example**                    |\n",
    "|--------------|------------------------|---------------------------------|\n",
    "| `and`        | Logical AND             | True and False is False         |\n",
    "| `or`         | Logical OR              | True or False is True           |\n",
    "| `not`        | Logical NOT             | not True is False               |"
   ]
  },
  {
   "cell_type": "markdown",
   "metadata": {},
   "source": [
    "### **4. Basic Python Programs in Python**\n"
   ]
  },
  {
   "cell_type": "code",
   "execution_count": 1,
   "metadata": {},
   "outputs": [],
   "source": [
    "# write a program that coverts days to weeks.\n"
   ]
  },
  {
   "cell_type": "markdown",
   "metadata": {},
   "source": []
  },
  {
   "cell_type": "markdown",
   "metadata": {},
   "source": [
    "#### **5. Conditionals**\n",
    "- Conditionals in Python allow you to execute code based on certain conditions using the `if`, `elif`, and `else` statements.\n",
    "\n",
    "#### **If Statement**\n",
    "- The `if` statement is used to execute a block of code only if a condition is `True`.\n",
    "\n",
    "| **Statement**  | **Description**                                    | **Example**                          |\n",
    "|----------------|----------------------------------------------------|--------------------------------------|\n",
    "| `if`           | Executes the block of code if the condition is True| if x > 5: print(\"x is greater than 5\")|\n",
    "\n",
    "#### **Elif Statement**\n",
    "- The `elif` (else if) statement checks additional conditions if the `if` statement is `False`.\n",
    "\n",
    "| **Statement**  | **Description**                                    | **Example**                            |\n",
    "|----------------|----------------------------------------------------|----------------------------------------|\n",
    "| `elif`         | Executes if the previous condition(s) are False and this one is True | elif x == 5: print(\"x is equal to 5\")  |\n",
    "\n",
    "#### **Else Statement**\n",
    "- The `else` statement runs if all previous conditions are `False`.\n",
    "\n",
    "| **Statement**  | **Description**                                    | **Example**                          |\n",
    "|----------------|----------------------------------------------------|--------------------------------------|\n",
    "| `else`         | Executes the block of code if no previous condition is True | else: print(\"x is less than 5\") |\n",
    "\n",
    "#### **Nested Conditionals**\n",
    "- You can place conditionals inside other conditionals to create more complex decisions.\n",
    "\n",
    "| **Statement**  | **Description**                                    | **Example**                            |\n",
    "|----------------|----------------------------------------------------|----------------------------------------|\n",
    "| Nested `if`    | An `if` statement inside another `if` block        | if x > 5: if x < 10: print(\"x is between 5 and 10\") |\n",
    "\n",
    "#### **Logical Operators in Conditionals**\n",
    "- Logical operators like `and`, `or`, and `not` allow you to combine multiple conditions.\n",
    "\n",
    "| **Operator** | **Description**        | **Example**                      |\n",
    "|--------------|------------------------|----------------------------------|\n",
    "| `and`        | Logical AND             | if x > 5 and x < 10: print(\"x is between 5 and 10\") |\n",
    "| `or`         | Logical OR              | if x < 5 or x > 10: print(\"x is less than 5 or greater than 10\") |\n",
    "| `not`        | Logical NOT             | if not x == 5: print(\"x is not 5\") |\n",
    "\n",
    "#### **Example: Multiple Conditions**\n",
    "- You can use conditionals to check multiple conditions together.\n",
    "\n",
    "| **Statement**  | **Description**                                     | **Example**                           |\n",
    "|----------------|-----------------------------------------------------|---------------------------------------|\n",
    "| Combined Conditions | Combining multiple conditions with logical operators | if x > 0 and x < 10: print(\"x is between 0 and 10\") |"
   ]
  },
  {
   "cell_type": "code",
   "execution_count": null,
   "metadata": {},
   "outputs": [],
   "source": [
    "# write a program that checks JAMB eligibility\n",
    "\n"
   ]
  },
  {
   "cell_type": "code",
   "execution_count": null,
   "metadata": {},
   "outputs": [],
   "source": [
    "# write a program that checks if someone is passed or failed an exam."
   ]
  },
  {
   "cell_type": "code",
   "execution_count": null,
   "metadata": {},
   "outputs": [],
   "source": [
    "# write a program that calculates someone's bmi after accepting the needed parameters."
   ]
  },
  {
   "cell_type": "markdown",
   "metadata": {},
   "source": [
    "### **End of Lecture Assignment**\n",
    "\n",
    "#### **Exercise 1**: \n",
    "1. Write a program that prints a sentence introducing a person with their name and age.\n",
    "2. Write a program that checks whether a number is odd or even.\n",
    "3. Write a program that compares two strings and checks if they are the same or different.\n",
    "4. Write a program that checks a person's age and prints whether they are a \"Child\", \"Teenager\", or \"Adult\".\n",
    "5. Write a program that checks the temperature and prints whether it is \"cold\" or \"warm\".\n",
    "\n",
    "\n",
    "#### **Exercise 2**:\n",
    "1. Write a 100-150 words medium article on types in python. The focus of the article\n",
    "should be on how python handles data types and what makes it different to other\n",
    "languages.\n",
    "2. Write a 100-150 linkedin article on flow of conditionals (if-else-elif) in python.\n",
    "\n",
    "#### **Important**:\n",
    "\n",
    "There is zero tolerance for ai-generated articles. For every article you generate with\n",
    "ai, you are going to write 3 new articles."
   ]
  },
  {
   "cell_type": "markdown",
   "metadata": {},
   "source": []
  }
 ],
 "metadata": {
  "kernelspec": {
   "display_name": "base",
   "language": "python",
   "name": "python3"
  },
  "language_info": {
   "codemirror_mode": {
    "name": "ipython",
    "version": 3
   },
   "file_extension": ".py",
   "mimetype": "text/x-python",
   "name": "python",
   "nbconvert_exporter": "python",
   "pygments_lexer": "ipython3",
   "version": "3.12.3"
  }
 },
 "nbformat": 4,
 "nbformat_minor": 2
}
