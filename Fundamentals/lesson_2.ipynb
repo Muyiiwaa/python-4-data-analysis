{
 "cells": [
  {
   "cell_type": "markdown",
   "metadata": {},
   "source": [
    "### Basic Data Structures (Lists, Tuples, Dictionaries) & Loops"
   ]
  },
  {
   "cell_type": "markdown",
   "metadata": {},
   "source": [
    "#### Data Structures\n",
    "In Python, data structures help organize and store data efficiently. Four of the most fundamental iterable data structures are:\n",
    "\n",
    "    - Lists\n",
    "    - Tuples\n",
    "    - Dictionaries\n",
    "    - Sets\n",
    "    \n",
    "### Lists\n",
    "- **Definition**: An ordered collection of items, which can hold elements of different types.\n",
    "- **Mutable**: Lists can be changed after creation (e.g., adding, removing, or modifying elements).\n",
    "- **Syntax**: Defined using square brackets `[]`."
   ]
  },
  {
   "cell_type": "code",
   "execution_count": 2,
   "metadata": {},
   "outputs": [],
   "source": [
    "# creating a list"
   ]
  },
  {
   "cell_type": "code",
   "execution_count": 3,
   "metadata": {},
   "outputs": [],
   "source": [
    "# creating a list of lists"
   ]
  },
  {
   "cell_type": "code",
   "execution_count": 4,
   "metadata": {},
   "outputs": [],
   "source": [
    "# checking the data type\n"
   ]
  },
  {
   "cell_type": "code",
   "execution_count": 5,
   "metadata": {},
   "outputs": [],
   "source": [
    "# list slicing and indexing\n",
    "\n",
    "#create a list of numbers  between  20 and 100\n",
    "\n",
    "\n",
    "#indexing a list\n",
    "#FORWARD INDEXING\n",
    "\n",
    "#backward indexing \n"
   ]
  },
  {
   "cell_type": "code",
   "execution_count": 6,
   "metadata": {},
   "outputs": [],
   "source": [
    "# slicing a list\n"
   ]
  },
  {
   "cell_type": "code",
   "execution_count": 7,
   "metadata": {},
   "outputs": [],
   "source": [
    "# slicing and indexing lists of lists\n",
    "\n"
   ]
  },
  {
   "cell_type": "markdown",
   "metadata": {},
   "source": [
    "#### List methods and attributes"
   ]
  },
  {
   "cell_type": "code",
   "execution_count": 8,
   "metadata": {},
   "outputs": [],
   "source": [
    "#len function \n",
    "\n",
    "\n",
    "#sorted function\n",
    "\n",
    "\n",
    "#max function"
   ]
  },
  {
   "cell_type": "code",
   "execution_count": 9,
   "metadata": {},
   "outputs": [],
   "source": [
    "#append method\n",
    "\n",
    "\n",
    "#remove method\n",
    "\n",
    "# pop method"
   ]
  },
  {
   "cell_type": "markdown",
   "metadata": {},
   "source": [
    "### Tuples\n",
    "- **Definition**: Similar to lists but immutable, meaning their elements cannot be changed after creation.\n",
    "- **Immutable**: Tuples cannot be modified once created.\n",
    "- **Syntax**: Defined using parentheses `()`."
   ]
  },
  {
   "cell_type": "code",
   "execution_count": null,
   "metadata": {},
   "outputs": [],
   "source": []
  },
  {
   "cell_type": "code",
   "execution_count": null,
   "metadata": {},
   "outputs": [],
   "source": []
  },
  {
   "cell_type": "code",
   "execution_count": null,
   "metadata": {},
   "outputs": [],
   "source": []
  },
  {
   "cell_type": "markdown",
   "metadata": {},
   "source": [
    "### Dictionaries\n",
    "- **Definition**: A collection of key-value pairs, where keys are unique identifiers for the corresponding values.\n",
    "- **Mutable**: Can be modified by adding, changing, or removing key-value pairs.\n",
    "- **Syntax**: Defined using curly braces `{}` with key-value pairs separated by colons."
   ]
  },
  {
   "cell_type": "code",
   "execution_count": 10,
   "metadata": {},
   "outputs": [],
   "source": [
    "# create a dict"
   ]
  },
  {
   "cell_type": "code",
   "execution_count": 11,
   "metadata": {},
   "outputs": [],
   "source": [
    "# key referencing.\n"
   ]
  },
  {
   "cell_type": "code",
   "execution_count": 12,
   "metadata": {},
   "outputs": [],
   "source": [
    "# dictionary methods\n",
    "\n",
    "# adding new pairs\n",
    "\n",
    "\n",
    "# get the list of keys\n",
    "\n",
    "\n",
    "# get the list of values\n",
    "\n",
    "\n"
   ]
  },
  {
   "cell_type": "markdown",
   "metadata": {
    "vscode": {
     "languageId": "plaintext"
    }
   },
   "source": [
    "### Comparison Table\n",
    "\n",
    "| Feature       | List              | Tuple            | Dictionary                  |\n",
    "|---------------|-------------------|------------------|-----------------------------|\n",
    "| **Mutable**   | Yes               | No               | Yes                         |\n",
    "| **Ordered**   | No               | No              | No                          |\n",
    "| **Indexing**  | Yes               | Yes              | No (access via keys)        |\n",
    "| **Use Case**  | Collection of items | Fixed collection | Key-value mapping           |\n"
   ]
  },
  {
   "cell_type": "code",
   "execution_count": 13,
   "metadata": {},
   "outputs": [],
   "source": [
    "# write a program the performs a login functionality"
   ]
  },
  {
   "cell_type": "code",
   "execution_count": null,
   "metadata": {},
   "outputs": [],
   "source": []
  },
  {
   "cell_type": "code",
   "execution_count": null,
   "metadata": {},
   "outputs": [],
   "source": []
  },
  {
   "cell_type": "markdown",
   "metadata": {},
   "source": [
    "## Loops\n",
    "\n",
    "Loops are control structures used to repeat a block of code. Python offers two primary types of loops:\n",
    "\n",
    "### For Loop\n",
    "- **Definition**: Iterates over a sequence (e.g., list, tuple, string) and executes a block of code for each item.\n",
    "- **Use Case**: Best when the number of iterations is known."
   ]
  },
  {
   "cell_type": "code",
   "execution_count": 14,
   "metadata": {},
   "outputs": [],
   "source": [
    "# create a basic for-loop\n"
   ]
  },
  {
   "cell_type": "code",
   "execution_count": 15,
   "metadata": {},
   "outputs": [],
   "source": [
    "# write a program that returns the even numbers within a range\n"
   ]
  },
  {
   "cell_type": "code",
   "execution_count": 16,
   "metadata": {},
   "outputs": [],
   "source": [
    "# write a function that checks if a number is prime or not\n"
   ]
  },
  {
   "cell_type": "markdown",
   "metadata": {},
   "source": [
    "### While Loop\n",
    "- **Definition**: Repeats a block of code as long as a specified condition is `True`.\n",
    "- **Use Case**: Useful when the number of iterations depends on a condition.\n"
   ]
  },
  {
   "cell_type": "code",
   "execution_count": 17,
   "metadata": {},
   "outputs": [],
   "source": [
    "# structure of a while loop"
   ]
  },
  {
   "cell_type": "code",
   "execution_count": 18,
   "metadata": {},
   "outputs": [],
   "source": [
    "# write a program the performs a login functionality\n",
    "# and can validate multiple students\n",
    "\n"
   ]
  },
  {
   "cell_type": "code",
   "execution_count": null,
   "metadata": {},
   "outputs": [],
   "source": []
  },
  {
   "cell_type": "markdown",
   "metadata": {},
   "source": [
    "### Comparison Table\n",
    "\n",
    "| Feature              | For Loop                                      | While Loop                  |\n",
    "|----------------------|-----------------------------------------------|-----------------------------|\n",
    "| **Use Case**         | Iterating over a sequence                     | Repeating based on a condition |\n",
    "| **Control Mechanism**| Sequence-based                                | Condition-based             |\n",
    "| **Common Usage**     | Fixed number of iterations                    | Unknown or variable number of iterations |\n"
   ]
  },
  {
   "cell_type": "markdown",
   "metadata": {},
   "source": [
    "### ASSIGNMENT.\n",
    "\n",
    "1. Student Registration Check\n",
    "    - Write a program that checks if a student's name is in a list of registered students. If it is, print a welcome message; if not, prompt them to register.\n",
    "\n",
    "2. Grocery List Total\n",
    "    - You have a dictionary with grocery items as keys and their prices as values. Loop through the dictionary and calculate the total cost of all items.\n",
    "\n",
    "3. Class Attendance Tracker\n",
    "    - Use a list to store the names of students present. Let the user input names in a loop until they type 'done'. Afterward, print the full attendance list.\n",
    "\n",
    "4. Favorite Colors Survey\n",
    "    - You have a dictionary where keys are student names and values are their favorite colors. Loop through and print each student’s favorite color in a sentence.\n",
    "\n",
    "5. Find the Largest Number in a Tuple\n",
    "    - Given a tuple of numbers, write a program that finds and prints the largest number using a loop (no built-in max() function).\n",
    "\n",
    "6. Simple Contact Book\n",
    "    - Create a dictionary that stores names and phone numbers. Let the user search for a name in a loop, and return the phone number if it exists.\n",
    "\n",
    "7. Remove Duplicates from a List\n",
    "    - Write a program that removes duplicates from a list without using set(). Use a loop and a second list to store only unique values.\n",
    "\n",
    "8. Student Grade Average\n",
    "    - Use a dictionary where keys are student names and values are lists of their grades. Write a program that calculates and prints the average grade for each student."
   ]
  },
  {
   "cell_type": "markdown",
   "metadata": {},
   "source": []
  }
 ],
 "metadata": {
  "kernelspec": {
   "display_name": "base",
   "language": "python",
   "name": "python3"
  },
  "language_info": {
   "codemirror_mode": {
    "name": "ipython",
    "version": 3
   },
   "file_extension": ".py",
   "mimetype": "text/x-python",
   "name": "python",
   "nbconvert_exporter": "python",
   "pygments_lexer": "ipython3",
   "version": "3.12.3"
  }
 },
 "nbformat": 4,
 "nbformat_minor": 2
}
