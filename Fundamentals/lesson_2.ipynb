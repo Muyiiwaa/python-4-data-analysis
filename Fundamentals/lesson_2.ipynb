{
 "cells": [
  {
   "cell_type": "markdown",
   "metadata": {},
   "source": [
    "### Basic Data Structures (Lists, Tuples, Dictionaries) & Loops"
   ]
  },
  {
   "cell_type": "markdown",
   "metadata": {},
   "source": [
    "#### Data Structures\n",
    "In Python, data structures help organize and store data efficiently. Four of the most fundamental iterable data structures are:\n",
    "\n",
    "    - Lists\n",
    "    - Tuples\n",
    "    - Dictionaries\n",
    "    - Sets\n",
    "    \n",
    "### Lists\n",
    "- **Definition**: An ordered collection of items, which can hold elements of different types.\n",
    "- **Mutable**: Lists can be changed after creation (e.g., adding, removing, or modifying elements).\n",
    "- **Syntax**: Defined using square brackets `[]`."
   ]
  },
  {
   "cell_type": "code",
   "execution_count": 1,
   "metadata": {},
   "outputs": [
    {
     "name": "stdout",
     "output_type": "stream",
     "text": [
      "['tola', 'wale', 'kemi']\n"
     ]
    }
   ],
   "source": [
    "# creating a list\n",
    "\n",
    "names = ['tola','wale','kemi']\n",
    "print(names)"
   ]
  },
  {
   "cell_type": "code",
   "execution_count": 15,
   "metadata": {},
   "outputs": [
    {
     "name": "stdout",
     "output_type": "stream",
     "text": [
      "[['fola', 23, 'f'], ['toke', 44, 'm'], ['steph', 22, 'm']]\n"
     ]
    }
   ],
   "source": [
    "# creating a list of lists\n",
    "\n",
    "students = [['fola',23,'f'],\n",
    "            ['toke',44,'m'],\n",
    "            ['steph',22,'m']]\n",
    "print(students)"
   ]
  },
  {
   "cell_type": "code",
   "execution_count": 4,
   "metadata": {},
   "outputs": [
    {
     "name": "stdout",
     "output_type": "stream",
     "text": [
      "<class 'list'>\n",
      "<class 'list'>\n"
     ]
    }
   ],
   "source": [
    "# checking the data type\n",
    "print(type(names))\n",
    "print(type(students))"
   ]
  },
  {
   "cell_type": "markdown",
   "metadata": {},
   "source": [
    "### list slicing and indexing"
   ]
  },
  {
   "cell_type": "code",
   "execution_count": 2,
   "metadata": {},
   "outputs": [
    {
     "name": "stdout",
     "output_type": "stream",
     "text": [
      "[70, 71, 72, 73, 74, 75, 76, 77, 78, 79, 80, 81, 82, 83, 84, 85, 86, 87, 88, 89, 90, 91, 92, 93, 94, 95, 96, 97, 98, 99, 100]\n",
      "70\n",
      "71\n",
      "=============BACKWARD INDEXING================\n",
      "100\n",
      "99\n"
     ]
    }
   ],
   "source": [
    "#create a list of numbers  between  70 and 100\n",
    "numbers = list(range(70,101))\n",
    "print(numbers)\n",
    "#indexing a list\n",
    "#FORWARD INDEXING\n",
    "print(numbers[0])\n",
    "print(numbers[1])\n",
    "\n",
    "print('=============BACKWARD INDEXING================')\n",
    "print(numbers[-1])\n",
    "print(numbers[-2])\n",
    "#backward indexing \n"
   ]
  },
  {
   "cell_type": "code",
   "execution_count": null,
   "metadata": {},
   "outputs": [
    {
     "name": "stdout",
     "output_type": "stream",
     "text": [
      "[70, 71, 72, 73]\n",
      "[73, 74, 75, 76, 77, 78, 79]\n",
      "[94, 95, 96, 97, 98, 99, 100]\n"
     ]
    }
   ],
   "source": [
    "# slicing a list\n",
    "\n",
    "print(numbers[:4]) # slice from the beginning\n",
    "print(numbers[3:10]) # slice from 73 to 79\n",
    "print(numbers[-7:]) # backward slicing"
   ]
  },
  {
   "cell_type": "code",
   "execution_count": null,
   "metadata": {},
   "outputs": [
    {
     "name": "stdout",
     "output_type": "stream",
     "text": [
      "[['fola', 23, 'f'], ['toke', 44, 'm'], ['steph', 22, 'm']]\n",
      "f\n",
      "22\n",
      "[44, 'm']\n"
     ]
    }
   ],
   "source": [
    "# slicing and indexing lists of lists\n",
    "print(students)\n",
    "print(students[0][-1]) # fola's gender\n",
    "print(students[2][1]) # steph's age\n",
    "\n",
    "print(students[1][1:]) # toke's gender"
   ]
  },
  {
   "cell_type": "markdown",
   "metadata": {},
   "source": [
    "#### List Functions"
   ]
  },
  {
   "cell_type": "code",
   "execution_count": 8,
   "metadata": {},
   "outputs": [
    {
     "name": "stdout",
     "output_type": "stream",
     "text": [
      "31\n",
      "3\n",
      "[92, 43, 15, 12, 9]\n",
      "100\n",
      "92\n",
      "2635\n",
      "297\n"
     ]
    }
   ],
   "source": [
    "#len function \n",
    "print(len(numbers))\n",
    "print(len(students))\n",
    "#sorted function\n",
    "some_ages = [43,12,15,9,92]\n",
    "print(sorted(some_ages, reverse = True))\n",
    "\n",
    "#max function\n",
    "print(max(numbers))\n",
    "print(max(some_ages))\n",
    "\n",
    "# sum function\n",
    "print(sum(numbers))\n",
    "print(sum(numbers[-3:]))"
   ]
  },
  {
   "cell_type": "code",
   "execution_count": null,
   "metadata": {},
   "outputs": [
    {
     "name": "stdout",
     "output_type": "stream",
     "text": [
      "[['fola', 23, 'f'], ['toke', 44, 'm'], ['steph', 22, 'm']]\n",
      "[['fola', 23, 'f'], ['toke', 44, 'm'], ['steph', 22, 'm'], ['malik', 27, 'f']]\n",
      "[['toke', 44, 'm'], ['steph', 22, 'm'], ['malik', 27, 'f']]\n"
     ]
    }
   ],
   "source": [
    "print(students)\n",
    "#append method\n",
    "students.append(['malik',27,'f'])\n",
    "print(students)\n",
    "\n",
    "#remove method\n",
    "students.remove(students[0])\n",
    "print(students)"
   ]
  },
  {
   "cell_type": "code",
   "execution_count": 17,
   "metadata": {},
   "outputs": [
    {
     "data": {
      "text/plain": [
       "['steph', 22, 'm']"
      ]
     },
     "execution_count": 17,
     "metadata": {},
     "output_type": "execute_result"
    }
   ],
   "source": [
    "# pop method\n",
    "students.pop(1)"
   ]
  },
  {
   "cell_type": "code",
   "execution_count": 19,
   "metadata": {},
   "outputs": [
    {
     "data": {
      "text/plain": [
       "[['toke', 44, 'm'], ['malik', 27, 'f']]"
      ]
     },
     "execution_count": 19,
     "metadata": {},
     "output_type": "execute_result"
    }
   ],
   "source": [
    "students"
   ]
  },
  {
   "cell_type": "markdown",
   "metadata": {},
   "source": [
    "### Tuples\n",
    "- **Definition**: Similar to lists but immutable, meaning their elements cannot be changed after creation.\n",
    "- **Immutable**: Tuples cannot be modified once created.\n",
    "- **Syntax**: Defined using parentheses `()`."
   ]
  },
  {
   "cell_type": "code",
   "execution_count": null,
   "metadata": {},
   "outputs": [
    {
     "data": {
      "text/plain": [
       "('apple', 'man')"
      ]
     },
     "execution_count": 21,
     "metadata": {},
     "output_type": "execute_result"
    }
   ],
   "source": [
    "fruits = ('cashew','apple','mango')\n",
    "fruits[1:]"
   ]
  },
  {
   "cell_type": "code",
   "execution_count": 24,
   "metadata": {},
   "outputs": [
    {
     "data": {
      "text/plain": [
       "3"
      ]
     },
     "execution_count": 24,
     "metadata": {},
     "output_type": "execute_result"
    }
   ],
   "source": [
    "len(fruits)"
   ]
  },
  {
   "cell_type": "markdown",
   "metadata": {},
   "source": [
    "### Dictionaries\n",
    "- **Definition**: A collection of key-value pairs, where keys are unique identifiers for the corresponding values.\n",
    "- **Mutable**: Can be modified by adding, changing, or removing key-value pairs.\n",
    "- **Syntax**: Defined using curly braces `{}` with key-value pairs separated by colons."
   ]
  },
  {
   "cell_type": "code",
   "execution_count": 27,
   "metadata": {},
   "outputs": [
    {
     "name": "stdout",
     "output_type": "stream",
     "text": [
      "{'osun': 'osogbo', 'oyo': 'ibadan', 'kogi': 'lokoja'}\n",
      "<class 'dict'>\n"
     ]
    }
   ],
   "source": [
    "# create a dict\n",
    "\n",
    "nigeria = {'osun':'osogbo',\n",
    "           'oyo':'ibadan',\n",
    "           'kogi':'lokoja'}\n",
    "print(nigeria)\n",
    "print(type(nigeria))"
   ]
  },
  {
   "cell_type": "code",
   "execution_count": 29,
   "metadata": {},
   "outputs": [
    {
     "data": {
      "text/plain": [
       "'ibadan'"
      ]
     },
     "execution_count": 29,
     "metadata": {},
     "output_type": "execute_result"
    }
   ],
   "source": [
    "# key referencing.\n",
    "\n",
    "nigeria['oyo']"
   ]
  },
  {
   "cell_type": "code",
   "execution_count": 36,
   "metadata": {},
   "outputs": [
    {
     "name": "stdout",
     "output_type": "stream",
     "text": [
      "dict_keys(['osun', 'oyo', 'kogi', 'Lagos'])\n",
      "dict_values(['osogbo', 'ibadan', 'lokoja', 'ikeja'])\n",
      "dict_items([('osun', 'osogbo'), ('oyo', 'ibadan'), ('kogi', 'lokoja'), ('Lagos', 'ikeja')])\n"
     ]
    }
   ],
   "source": [
    "# dictionary methods\n",
    "\n",
    "# adding new pairs\n",
    "nigeria.update({'Lagos':'ikeja'})\n",
    "\n",
    "\n",
    "# get the list of keys\n",
    "print(nigeria.keys())\n",
    "\n",
    "\n",
    "# get the list of values\n",
    "print(nigeria.values())\n",
    "\n",
    "print(nigeria.items())\n"
   ]
  },
  {
   "cell_type": "markdown",
   "metadata": {
    "vscode": {
     "languageId": "plaintext"
    }
   },
   "source": [
    "### Comparison Table\n",
    "\n",
    "| Feature       | List              | Tuple            | Dictionary                  |\n",
    "|---------------|-------------------|------------------|-----------------------------|\n",
    "| **Mutable**   | Yes               | No               | Yes                         |\n",
    "| **Ordered**   | No               | No              | No                          |\n",
    "| **Indexing**  | Yes               | Yes              | No (access via keys)        |\n",
    "| **Use Case**  | Collection of items | Fixed collection | Key-value mapping           |\n"
   ]
  },
  {
   "cell_type": "code",
   "execution_count": 41,
   "metadata": {},
   "outputs": [
    {
     "data": {
      "text/plain": [
       "dict_keys(['kemi', 'tola'])"
      ]
     },
     "execution_count": 41,
     "metadata": {},
     "output_type": "execute_result"
    }
   ],
   "source": [
    "# write a program the performs a login functionality\n",
    "fake_database = {\n",
    "    'kemi': '1234',\n",
    "    'tola': 'xyz'\n",
    "}\n",
    "fake_database.keys()"
   ]
  },
  {
   "cell_type": "code",
   "execution_count": 52,
   "metadata": {},
   "outputs": [],
   "source": [
    "username = input('Welcome, please enter your username: ')\n",
    "if username in fake_database.keys():\n",
    "    password = input(f'Hey {username} enter your password: ')\n",
    "    if password == fake_database[username]:\n",
    "        print('Login successful!')\n",
    "    else:\n",
    "        print('Incorrect password')\n",
    "else:\n",
    "    decision = input('User not found, want to create an account?: ')\n",
    "    if decision == 'yes':\n",
    "        password = input(f'welcome {username} Choose a password')\n",
    "        fake_database.update({username:password})"
   ]
  },
  {
   "cell_type": "code",
   "execution_count": 50,
   "metadata": {},
   "outputs": [
    {
     "data": {
      "text/plain": [
       "{'kemi': '1234', 'tola': 'xyz', 'fola': '456'}"
      ]
     },
     "execution_count": 50,
     "metadata": {},
     "output_type": "execute_result"
    }
   ],
   "source": [
    "fake_database"
   ]
  },
  {
   "cell_type": "markdown",
   "metadata": {},
   "source": [
    "## Loops\n",
    "\n",
    "Loops are control structures used to repeat a block of code. Python offers two primary types of loops:\n",
    "\n",
    "### For Loop\n",
    "- **Definition**: Iterates over a sequence (e.g., list, tuple, string) and executes a block of code for each item.\n",
    "- **Use Case**: Best when the number of iterations is known."
   ]
  },
  {
   "cell_type": "code",
   "execution_count": 3,
   "metadata": {},
   "outputs": [
    {
     "name": "stdout",
     "output_type": "stream",
     "text": [
      "This is Hello number 2\n",
      "This is Hello number 3\n",
      "This is Hello number 4\n"
     ]
    }
   ],
   "source": [
    "# create a basic for-loop\n",
    "\n",
    "\n",
    "# write a program that says hello five times\n",
    "for num in range(2,5):\n",
    "    print(f'This is Hello number {num}')"
   ]
  },
  {
   "cell_type": "code",
   "execution_count": 13,
   "metadata": {},
   "outputs": [
    {
     "name": "stdout",
     "output_type": "stream",
     "text": [
      "ouai\n"
     ]
    }
   ],
   "source": [
    "# write a program that returns the vowels in a name\n",
    "\n",
    "name_vowels = \"\"\n",
    "vowels = ['a','e','i','o','u']\n",
    "name = input('Enter your name: ') # tola\n",
    "for i in name:\n",
    "    if i in vowels and i not in name_vowels:\n",
    "        name_vowels = name_vowels + i\n",
    "\n",
    "print(name_vowels)\n",
    "        "
   ]
  },
  {
   "cell_type": "code",
   "execution_count": null,
   "metadata": {},
   "outputs": [],
   "source": [
    "# write a program that returns the even numbers between 1 and 20\n",
    "even_numbers = []\n",
    "numbers = list(range(1,21))\n",
    "for number in numbers:\n",
    "    if number % 2 != 0:\n",
    "        even_numbers.append(number)"
   ]
  },
  {
   "cell_type": "code",
   "execution_count": 21,
   "metadata": {},
   "outputs": [
    {
     "data": {
      "text/plain": [
       "[16, 18, 20, 22, 24, 26, 28]"
      ]
     },
     "execution_count": 21,
     "metadata": {},
     "output_type": "execute_result"
    }
   ],
   "source": [
    "# write a program that returns the even numbers within a range\n",
    "\n",
    "lower = int(input('Enter the lower number: '))\n",
    "upper = int(input('Enter the upper number: '))\n",
    "even_list = []\n",
    "\n",
    "for number in range(lower, upper+1):\n",
    "    if number % 2 == 0:\n",
    "        even_list.append(number)\n",
    "\n",
    "even_list"
   ]
  },
  {
   "cell_type": "code",
   "execution_count": 31,
   "metadata": {},
   "outputs": [
    {
     "name": "stdout",
     "output_type": "stream",
     "text": [
      "6 is not prime\n"
     ]
    }
   ],
   "source": [
    "# write a program that checks if a number is prime or not\n",
    "\n",
    "number = int(input(\"Enter the number: \"))\n",
    "for num in range(2, number):\n",
    "    if number % num == 0:\n",
    "        print(f'{number} is not prime')\n",
    "        break\n",
    "else:\n",
    "    print(f'{number} is prime')"
   ]
  },
  {
   "cell_type": "markdown",
   "metadata": {},
   "source": [
    "### While Loop\n",
    "- **Definition**: Repeats a block of code as long as a specified condition is `True`.\n",
    "- **Use Case**: Useful when the number of iterations depends on a condition.\n"
   ]
  },
  {
   "cell_type": "code",
   "execution_count": 32,
   "metadata": {},
   "outputs": [
    {
     "name": "stdout",
     "output_type": "stream",
     "text": [
      "Hello\n",
      "Hello\n",
      "Hello\n",
      "Hello\n",
      "Hello\n"
     ]
    }
   ],
   "source": [
    "# structure of a while loop\n",
    "\n",
    "counter = 0\n",
    "while True:\n",
    "    if counter < 5:\n",
    "        print('Hello')\n",
    "        counter += 1\n",
    "    else:\n",
    "        break"
   ]
  },
  {
   "cell_type": "code",
   "execution_count": 33,
   "metadata": {},
   "outputs": [],
   "source": [
    "# write a program that accepts students registration\n",
    "\n",
    "register = []\n",
    "while True:\n",
    "    student = input('Welcome to class, enter your name: ')\n",
    "    if student == 'stop':\n",
    "        break\n",
    "    else:\n",
    "        register.append(student)"
   ]
  },
  {
   "cell_type": "code",
   "execution_count": 42,
   "metadata": {},
   "outputs": [
    {
     "name": "stdout",
     "output_type": "stream",
     "text": [
      "Welcome, here is our menu {'rice': 500, 'beans': 200, 'beef': 1000}\n",
      "===============THANK YOU FOR PATRONIZING==================\n",
      "3 X rice = $1500 \n",
      "2 X beef = $2000 \n",
      "1 X beans = $200 \n",
      "Total Bill is: 3700\n"
     ]
    }
   ],
   "source": [
    "# write a program that emulates a restaurant application\n",
    "\n",
    "menu = {\n",
    "    'rice': 500,\n",
    "    'beans': 200,\n",
    "    'beef': 1000\n",
    "}\n",
    "\n",
    "memory = {}\n",
    "cost = 0\n",
    "print(f'Welcome, here is our menu {menu}')\n",
    "while True:\n",
    "    item = input(\"what would you like or enter 'stop' to end: \")\n",
    "    if item == 'stop':\n",
    "        break\n",
    "    else:\n",
    "        if item in menu.keys():\n",
    "            quantity = int(input(f'How many {item} do you want'))\n",
    "            memory.update({item:quantity})\n",
    "            cost += (menu[item] * quantity)\n",
    "        else:\n",
    "            print('Not available')\n",
    "        \n",
    "print('===============THANK YOU FOR PATRONIZING==================')\n",
    "for food, quantity in memory.items():\n",
    "    print(f'{quantity} X {food} = ${menu[food] * quantity} ')\n",
    "    \n",
    "print(f'Total Bill is: {cost}')"
   ]
  },
  {
   "cell_type": "code",
   "execution_count": null,
   "metadata": {},
   "outputs": [
    {
     "data": {
      "text/plain": [
       "dict_items([('rice', 3), ('beef', 2), ('beans', 1)])"
      ]
     },
     "execution_count": 44,
     "metadata": {},
     "output_type": "execute_result"
    }
   ],
   "source": [
    "for food, quantity in memory.items()"
   ]
  },
  {
   "cell_type": "code",
   "execution_count": null,
   "metadata": {},
   "outputs": [
    {
     "data": {
      "text/plain": [
       "['tola', 'bimpe', 'segun']"
      ]
     },
     "execution_count": 34,
     "metadata": {},
     "output_type": "execute_result"
    }
   ],
   "source": [
    "# write a program the performs a login functionality\n",
    "# and can validate multiple students\n"
   ]
  },
  {
   "cell_type": "code",
   "execution_count": null,
   "metadata": {},
   "outputs": [],
   "source": []
  },
  {
   "cell_type": "markdown",
   "metadata": {},
   "source": [
    "### Comparison Table\n",
    "\n",
    "| Feature              | For Loop                                      | While Loop                  |\n",
    "|----------------------|-----------------------------------------------|-----------------------------|\n",
    "| **Use Case**         | Iterating over a sequence                     | Repeating based on a condition |\n",
    "| **Control Mechanism**| Sequence-based                                | Condition-based             |\n",
    "| **Common Usage**     | Fixed number of iterations                    | Unknown or variable number of iterations |\n"
   ]
  },
  {
   "cell_type": "markdown",
   "metadata": {},
   "source": [
    "### ASSIGNMENT.\n",
    "\n",
    "1. Student Registration Check\n",
    "    - Write a program that checks if a student's name is in a list of registered students. If it is, print a welcome message; if not, prompt them to register.\n",
    "\n",
    "2. Grocery List Total\n",
    "    - You have a dictionary with grocery items as keys and their prices as values. Loop through the dictionary and calculate the total cost of all items.\n",
    "\n",
    "3. Class Attendance Tracker\n",
    "    - Use a list to store the names of students present. Let the user input names in a loop until they type 'done'. Afterward, print the full attendance list.\n",
    "\n",
    "4. Favorite Colors Survey\n",
    "    - You have a dictionary where keys are student names and values are their favorite colors. Loop through and print each student’s favorite color in a sentence.\n",
    "\n",
    "5. Find the Largest Number in a Tuple\n",
    "    - Given a tuple of numbers, write a program that finds and prints the largest number using a loop (no built-in max() function).\n",
    "\n",
    "6. Simple Contact Book\n",
    "    - Create a dictionary that stores names and phone numbers. Let the user search for a name in a loop, and return the phone number if it exists.\n",
    "\n",
    "7. Remove Duplicates from a List\n",
    "    - Write a program that removes duplicates from a list without using set(). Use a loop and a second list to store only unique values.\n",
    "\n",
    "8. Student Grade Average\n",
    "    - Use a dictionary where keys are student names and values are lists of their grades. Write a program that calculates and prints the average grade for each student."
   ]
  },
  {
   "cell_type": "markdown",
   "metadata": {},
   "source": []
  }
 ],
 "metadata": {
  "kernelspec": {
   "display_name": "Python 3",
   "language": "python",
   "name": "python3"
  },
  "language_info": {
   "codemirror_mode": {
    "name": "ipython",
    "version": 3
   },
   "file_extension": ".py",
   "mimetype": "text/x-python",
   "name": "python",
   "nbconvert_exporter": "python",
   "pygments_lexer": "ipython3",
   "version": "3.12.0"
  }
 },
 "nbformat": 4,
 "nbformat_minor": 2
}
