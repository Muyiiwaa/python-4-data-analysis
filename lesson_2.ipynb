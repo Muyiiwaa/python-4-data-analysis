{
 "cells": [
  {
   "cell_type": "markdown",
   "metadata": {},
   "source": [
    "### Basic Data Structures (Lists, Tuples, Dictionaries) & Loops"
   ]
  },
  {
   "cell_type": "markdown",
   "metadata": {},
   "source": [
    "#### Data Structures\n",
    "In Python, data structures help organize and store data efficiently. Three of the most fundamental data structures are:\n",
    "\n",
    "### Lists\n",
    "- **Definition**: An ordered collection of items, which can hold elements of different types.\n",
    "- **Mutable**: Lists can be changed after creation (e.g., adding, removing, or modifying elements).\n",
    "- **Syntax**: Defined using square brackets `[]`."
   ]
  },
  {
   "cell_type": "code",
   "execution_count": 1,
   "metadata": {},
   "outputs": [
    {
     "name": "stdout",
     "output_type": "stream",
     "text": [
      "['segun', 'tola', 'femi']\n"
     ]
    }
   ],
   "source": [
    "names= ['segun','tola','femi']\n",
    "print(names)"
   ]
  },
  {
   "cell_type": "code",
   "execution_count": 7,
   "metadata": {},
   "outputs": [
    {
     "data": {
      "text/plain": [
       "[23, 45, 32]"
      ]
     },
     "execution_count": 7,
     "metadata": {},
     "output_type": "execute_result"
    }
   ],
   "source": [
    "age=[23,45,32]\n",
    "age"
   ]
  },
  {
   "cell_type": "code",
   "execution_count": 5,
   "metadata": {},
   "outputs": [
    {
     "name": "stdout",
     "output_type": "stream",
     "text": [
      "<class 'list'>\n",
      "<class 'list'>\n"
     ]
    }
   ],
   "source": [
    "print(type(age))\n",
    "print(type(names))"
   ]
  },
  {
   "cell_type": "code",
   "execution_count": 1,
   "metadata": {},
   "outputs": [
    {
     "name": "stdout",
     "output_type": "stream",
     "text": [
      "50\n",
      "51\n",
      "70\n",
      "69\n",
      "============================\n",
      "50\n",
      "51\n",
      "70\n",
      "69\n"
     ]
    }
   ],
   "source": [
    "# list slicing and indexing\n",
    "\n",
    "#create a list of numbers  between  1 and 100\n",
    "\n",
    "numbers= list(range(50,71))\n",
    "\n",
    "#indexing a list\n",
    "#FORWARD INDEXING\n",
    "print (numbers[0]) # prints first element in the list\n",
    "print (numbers[1]) # prints second element in the list\n",
    "print (numbers[20]) # prints last element in the list\n",
    "print (numbers[19]) # prints second to the last element in the list\n",
    "\n",
    "print('============================')\n",
    "#backward indexing \n",
    "print (numbers[-21]) # prints first element in the list\n",
    "print (numbers[-20]) # prints second element in the list\n",
    "print (numbers[-1]) # prints last element in the list\n",
    "print (numbers[19]) # prints second to the last element in the list"
   ]
  },
  {
   "cell_type": "code",
   "execution_count": 3,
   "metadata": {},
   "outputs": [
    {
     "name": "stdout",
     "output_type": "stream",
     "text": [
      "[53, 54, 55, 56, 57]\n",
      "[50, 51, 52, 53, 54]\n",
      "[50, 51, 52, 53, 54]\n"
     ]
    }
   ],
   "source": [
    "# slicing a list\n",
    "print(numbers[3:8]) # print the 3rd to 7th element in the list\n",
    "print(numbers[:5]) #prints the first 5 elements in the list\n",
    "print(numbers[:5]) #prints the last 5 elements in the list"
   ]
  },
  {
   "cell_type": "code",
   "execution_count": 10,
   "metadata": {},
   "outputs": [],
   "source": [
    "# lists of lists\n",
    "\n",
    "students= [\n",
    "    ['sola',23],\n",
    "    ['tomiwa',15],\n",
    "    ['segun',19]\n",
    "]\n",
    "\n",
    "# note: you can do multiple slicing and indexing"
   ]
  },
  {
   "cell_type": "code",
   "execution_count": 11,
   "metadata": {},
   "outputs": [
    {
     "name": "stdout",
     "output_type": "stream",
     "text": [
      "3\n",
      "[23, 32, 45]\n",
      "45\n",
      "[['tomiwa', 15], ['segun', 19], ['azeez,57']]\n"
     ]
    }
   ],
   "source": [
    "# list methods and attributes\n",
    "\n",
    "#len function \n",
    "print(len(students))\n",
    "\n",
    "#sorted function\n",
    "print(sorted(age))\n",
    "\n",
    "#max function\n",
    "print(max(age))\n",
    "\n",
    "#append method\n",
    "students.append(['azeez,57'])\n",
    "\n",
    "#remove method\n",
    "students.remove(['sola',23])\n",
    "print(students)"
   ]
  },
  {
   "cell_type": "markdown",
   "metadata": {},
   "source": [
    "### Tuples\n",
    "- **Definition**: Similar to lists but immutable, meaning their elements cannot be changed after creation.\n",
    "- **Immutable**: Tuples cannot be modified once created.\n",
    "- **Syntax**: Defined using parentheses `()`."
   ]
  },
  {
   "cell_type": "markdown",
   "metadata": {},
   "source": []
  },
  {
   "cell_type": "code",
   "execution_count": null,
   "metadata": {},
   "outputs": [],
   "source": []
  },
  {
   "cell_type": "code",
   "execution_count": null,
   "metadata": {},
   "outputs": [],
   "source": []
  },
  {
   "cell_type": "markdown",
   "metadata": {},
   "source": [
    "### Dictionaries\n",
    "- **Definition**: A collection of key-value pairs, where keys are unique identifiers for the corresponding values.\n",
    "- **Mutable**: Can be modified by adding, changing, or removing key-value pairs.\n",
    "- **Syntax**: Defined using curly braces `{}` with key-value pairs separated by colons."
   ]
  },
  {
   "cell_type": "code",
   "execution_count": null,
   "metadata": {},
   "outputs": [],
   "source": []
  },
  {
   "cell_type": "code",
   "execution_count": null,
   "metadata": {},
   "outputs": [],
   "source": []
  },
  {
   "cell_type": "code",
   "execution_count": null,
   "metadata": {},
   "outputs": [],
   "source": []
  },
  {
   "cell_type": "markdown",
   "metadata": {
    "vscode": {
     "languageId": "plaintext"
    }
   },
   "source": [
    "### Comparison Table\n",
    "\n",
    "| Feature       | List              | Tuple            | Dictionary                  |\n",
    "|---------------|-------------------|------------------|-----------------------------|\n",
    "| **Mutable**   | Yes               | No               | Yes                         |\n",
    "| **Ordered**   | Yes               | Yes              | No                          |\n",
    "| **Indexing**  | Yes               | Yes              | No (access via keys)        |\n",
    "| **Use Case**  | Collection of items | Fixed collection | Key-value mapping           |\n"
   ]
  },
  {
   "cell_type": "code",
   "execution_count": null,
   "metadata": {},
   "outputs": [],
   "source": []
  },
  {
   "cell_type": "code",
   "execution_count": null,
   "metadata": {},
   "outputs": [],
   "source": []
  },
  {
   "cell_type": "code",
   "execution_count": null,
   "metadata": {},
   "outputs": [],
   "source": []
  },
  {
   "cell_type": "markdown",
   "metadata": {},
   "source": [
    "## Loops\n",
    "\n",
    "Loops are control structures used to repeat a block of code. Python offers two primary types of loops:\n",
    "\n",
    "### For Loop\n",
    "- **Definition**: Iterates over a sequence (e.g., list, tuple, string) and executes a block of code for each item.\n",
    "- **Use Case**: Best when the number of iterations is known."
   ]
  },
  {
   "cell_type": "code",
   "execution_count": null,
   "metadata": {},
   "outputs": [],
   "source": []
  },
  {
   "cell_type": "code",
   "execution_count": null,
   "metadata": {},
   "outputs": [],
   "source": []
  },
  {
   "cell_type": "code",
   "execution_count": null,
   "metadata": {},
   "outputs": [],
   "source": []
  },
  {
   "cell_type": "markdown",
   "metadata": {},
   "source": [
    "### While Loop\n",
    "- **Definition**: Repeats a block of code as long as a specified condition is `True`.\n",
    "- **Use Case**: Useful when the number of iterations depends on a condition.\n"
   ]
  },
  {
   "cell_type": "markdown",
   "metadata": {},
   "source": []
  },
  {
   "cell_type": "code",
   "execution_count": null,
   "metadata": {},
   "outputs": [],
   "source": []
  },
  {
   "cell_type": "code",
   "execution_count": null,
   "metadata": {},
   "outputs": [],
   "source": []
  },
  {
   "cell_type": "markdown",
   "metadata": {},
   "source": [
    "### Comparison Table\n",
    "\n",
    "| Feature              | For Loop                                      | While Loop                  |\n",
    "|----------------------|-----------------------------------------------|-----------------------------|\n",
    "| **Use Case**         | Iterating over a sequence                     | Repeating based on a condition |\n",
    "| **Control Mechanism**| Sequence-based                                | Condition-based             |\n",
    "| **Common Usage**     | Fixed number of iterations                    | Unknown or variable number of iterations |\n"
   ]
  },
  {
   "cell_type": "markdown",
   "metadata": {},
   "source": []
  }
 ],
 "metadata": {
  "kernelspec": {
   "display_name": "Python 3",
   "language": "python",
   "name": "python3"
  },
  "language_info": {
   "codemirror_mode": {
    "name": "ipython",
    "version": 3
   },
   "file_extension": ".py",
   "mimetype": "text/x-python",
   "name": "python",
   "nbconvert_exporter": "python",
   "pygments_lexer": "ipython3",
   "version": "3.12.0"
  }
 },
 "nbformat": 4,
 "nbformat_minor": 2
}
