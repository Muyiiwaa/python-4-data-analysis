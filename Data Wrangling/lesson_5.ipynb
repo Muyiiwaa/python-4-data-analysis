{
 "cells": [
  {
   "cell_type": "markdown",
   "id": "bd00dc6d",
   "metadata": {},
   "source": [
    "## INTRO TO PANDAS AND NUMPY FOR DATA ANALYSIS"
   ]
  },
  {
   "cell_type": "code",
   "execution_count": 1,
   "id": "0e5b279d",
   "metadata": {},
   "outputs": [],
   "source": [
    "# import the needed libraries\n",
    "\n",
    "import pandas as pd\n",
    "import numpy as np"
   ]
  },
  {
   "cell_type": "code",
   "execution_count": 3,
   "id": "03bcd6f3",
   "metadata": {},
   "outputs": [
    {
     "name": "stdout",
     "output_type": "stream",
     "text": [
      "1.26.2\n",
      "2.1.4\n"
     ]
    }
   ],
   "source": [
    "# check the version of the libraries\n",
    "print(np.__version__)\n",
    "print(pd.__version__)"
   ]
  },
  {
   "cell_type": "code",
   "execution_count": 5,
   "id": "03c32876",
   "metadata": {},
   "outputs": [
    {
     "data": {
      "text/html": [
       "<div>\n",
       "<style scoped>\n",
       "    .dataframe tbody tr th:only-of-type {\n",
       "        vertical-align: middle;\n",
       "    }\n",
       "\n",
       "    .dataframe tbody tr th {\n",
       "        vertical-align: top;\n",
       "    }\n",
       "\n",
       "    .dataframe thead th {\n",
       "        text-align: right;\n",
       "    }\n",
       "</style>\n",
       "<table border=\"1\" class=\"dataframe\">\n",
       "  <thead>\n",
       "    <tr style=\"text-align: right;\">\n",
       "      <th></th>\n",
       "      <th>name</th>\n",
       "      <th>age</th>\n",
       "      <th>gender</th>\n",
       "      <th>marital_status</th>\n",
       "    </tr>\n",
       "  </thead>\n",
       "  <tbody>\n",
       "    <tr>\n",
       "      <th>0</th>\n",
       "      <td>tola</td>\n",
       "      <td>23</td>\n",
       "      <td>f</td>\n",
       "      <td>single</td>\n",
       "    </tr>\n",
       "    <tr>\n",
       "      <th>1</th>\n",
       "      <td>femi</td>\n",
       "      <td>15</td>\n",
       "      <td>m</td>\n",
       "      <td>married</td>\n",
       "    </tr>\n",
       "    <tr>\n",
       "      <th>2</th>\n",
       "      <td>sodiq</td>\n",
       "      <td>35</td>\n",
       "      <td>f</td>\n",
       "      <td>divorced</td>\n",
       "    </tr>\n",
       "    <tr>\n",
       "      <th>3</th>\n",
       "      <td>wale</td>\n",
       "      <td>10</td>\n",
       "      <td>m</td>\n",
       "      <td>single</td>\n",
       "    </tr>\n",
       "  </tbody>\n",
       "</table>\n",
       "</div>"
      ],
      "text/plain": [
       "    name  age gender marital_status\n",
       "0   tola   23      f         single\n",
       "1   femi   15      m        married\n",
       "2  sodiq   35      f       divorced\n",
       "3   wale   10      m         single"
      ]
     },
     "execution_count": 5,
     "metadata": {},
     "output_type": "execute_result"
    }
   ],
   "source": [
    "# creating dataframe from scratch using list of lists\n",
    "\n",
    "# create the data list\n",
    "students_list = [\n",
    "    ['tola',23,'f','single'],\n",
    "    ['femi',15,'m', 'married'],\n",
    "    ['sodiq',35,'f','divorced'],\n",
    "    ['wale',10,'m','single']\n",
    "]\n",
    "\n",
    "# create a list of columns names\n",
    "column_name = ['name','age','gender','marital_status']\n",
    "\n",
    "# turn the data list to a dataframe\n",
    "student_df = pd.DataFrame(data= students_list, columns = column_name)\n",
    "student_df\n"
   ]
  },
  {
   "cell_type": "code",
   "execution_count": 6,
   "id": "5a84c26f",
   "metadata": {},
   "outputs": [
    {
     "data": {
      "text/html": [
       "<div>\n",
       "<style scoped>\n",
       "    .dataframe tbody tr th:only-of-type {\n",
       "        vertical-align: middle;\n",
       "    }\n",
       "\n",
       "    .dataframe tbody tr th {\n",
       "        vertical-align: top;\n",
       "    }\n",
       "\n",
       "    .dataframe thead th {\n",
       "        text-align: right;\n",
       "    }\n",
       "</style>\n",
       "<table border=\"1\" class=\"dataframe\">\n",
       "  <thead>\n",
       "    <tr style=\"text-align: right;\">\n",
       "      <th></th>\n",
       "      <th>club_name</th>\n",
       "      <th>ucl</th>\n",
       "      <th>best_player</th>\n",
       "    </tr>\n",
       "  </thead>\n",
       "  <tbody>\n",
       "    <tr>\n",
       "      <th>0</th>\n",
       "      <td>utd</td>\n",
       "      <td>3</td>\n",
       "      <td>bruno</td>\n",
       "    </tr>\n",
       "    <tr>\n",
       "      <th>1</th>\n",
       "      <td>chelsea</td>\n",
       "      <td>2</td>\n",
       "      <td>palmer</td>\n",
       "    </tr>\n",
       "    <tr>\n",
       "      <th>2</th>\n",
       "      <td>city</td>\n",
       "      <td>1</td>\n",
       "      <td>Bernado</td>\n",
       "    </tr>\n",
       "    <tr>\n",
       "      <th>3</th>\n",
       "      <td>arsenal</td>\n",
       "      <td>0</td>\n",
       "      <td>Saliba</td>\n",
       "    </tr>\n",
       "    <tr>\n",
       "      <th>4</th>\n",
       "      <td>spurs</td>\n",
       "      <td>0</td>\n",
       "      <td>Son</td>\n",
       "    </tr>\n",
       "  </tbody>\n",
       "</table>\n",
       "</div>"
      ],
      "text/plain": [
       "  club_name  ucl best_player\n",
       "0       utd    3       bruno\n",
       "1   chelsea    2      palmer\n",
       "2      city    1     Bernado\n",
       "3   arsenal    0      Saliba\n",
       "4     spurs    0         Son"
      ]
     },
     "execution_count": 6,
     "metadata": {},
     "output_type": "execute_result"
    }
   ],
   "source": [
    "# creating dataframe from dictionaries\n",
    "\n",
    "# create a dictionary\n",
    "\n",
    "club_dict = {\n",
    "    'club_name': ['utd','chelsea','city','arsenal','spurs'],\n",
    "    'ucl': [3,2,1,0,0],\n",
    "    'best_player': ['bruno','palmer','Bernado','Saliba','Son']\n",
    "}\n",
    "\n",
    "club_df = pd.DataFrame(data=club_dict)\n",
    "club_df"
   ]
  },
  {
   "cell_type": "code",
   "execution_count": null,
   "id": "e5832d96",
   "metadata": {},
   "outputs": [],
   "source": [
    "# exercise:\n",
    "# create a dataframe of countries, capital and continent.\n"
   ]
  }
 ],
 "metadata": {
  "kernelspec": {
   "display_name": "Python 3",
   "language": "python",
   "name": "python3"
  },
  "language_info": {
   "codemirror_mode": {
    "name": "ipython",
    "version": 3
   },
   "file_extension": ".py",
   "mimetype": "text/x-python",
   "name": "python",
   "nbconvert_exporter": "python",
   "pygments_lexer": "ipython3",
   "version": "3.12.0"
  }
 },
 "nbformat": 4,
 "nbformat_minor": 5
}
