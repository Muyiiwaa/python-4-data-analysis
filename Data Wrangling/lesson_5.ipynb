{
 "cells": [
  {
   "cell_type": "markdown",
   "id": "bd00dc6d",
   "metadata": {},
   "source": [
    "## INTRO TO PANDAS AND NUMPY FOR DATA ANALYSIS"
   ]
  },
  {
   "cell_type": "markdown",
   "id": "0e5b279d",
   "metadata": {},
   "source": []
  }
 ],
 "metadata": {
  "language_info": {
   "name": "python"
  }
 },
 "nbformat": 4,
 "nbformat_minor": 5
}
